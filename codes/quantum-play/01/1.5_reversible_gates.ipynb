{
 "cells": [
  {
   "cell_type": "code",
   "execution_count": 2,
   "id": "49f1a70b-7060-49d4-ad57-117a5c54cb7b",
   "metadata": {},
   "outputs": [],
   "source": [
    "import numpy as np\n",
    "from math import sqrt"
   ]
  },
  {
   "cell_type": "code",
   "execution_count": 3,
   "id": "7abdd2e4-935c-4a3a-8ae1-206b7d5060c0",
   "metadata": {},
   "outputs": [
    {
     "name": "stdout",
     "output_type": "stream",
     "text": [
      "Reversible quantum gates\n",
      "------------------------------\n",
      "|0〉 \n",
      " [1 0]\n",
      "|1〉 \n",
      " [0 1]\n",
      "(|0〉+|1〉)/√2 \n",
      " [0.70710678 0.70710678]\n",
      "\n",
      "\n"
     ]
    }
   ],
   "source": [
    "# Set up the basic matrices\n",
    "print(\"Reversible quantum gates\")\n",
    "print(\"------------------------------\")\n",
    "\n",
    "qubits = {\n",
    "    \"|0\\u232a\": np.array([1, 0]),\n",
    "    \"|1\\u232a\": np.array([0, 1]),\n",
    "    \"(|0\\u232a+|1\\u232a)/\\u221a2\": 1 / sqrt(2) * np.array([1, 1]),\n",
    "}\n",
    "\n",
    "for q in qubits:\n",
    "    print(q, \"\\n\", qubits[q])\n",
    "print(\"\\n\")"
   ]
  },
  {
   "cell_type": "code",
   "execution_count": 4,
   "id": "092073a2-6394-4d9e-a906-64ea64d667c0",
   "metadata": {},
   "outputs": [
    {
     "name": "stdout",
     "output_type": "stream",
     "text": [
      "Matrix representations of our gates:\n",
      "-------------------------------------\n",
      "\n",
      " id \n",
      " [[1 0]\n",
      " [0 1]]\n",
      "Reversed id = id (Same as original) \n",
      " [[1 0]\n",
      " [0 1]]\n",
      "\n",
      " x \n",
      " [[0 1]\n",
      " [1 0]]\n",
      "Reversed x = x (Same as original) \n",
      " [[0 1]\n",
      " [1 0]]\n",
      "\n",
      " y \n",
      " [[ 0.+0.j -0.-1.j]\n",
      " [ 0.+1.j  0.+0.j]]\n",
      "Reversed y = y† (Complex numbers conjugated) \n",
      " [[ 0.-0.j -0.+1.j]\n",
      " [ 0.-1.j  0.-0.j]]\n",
      "\n",
      " z \n",
      " [[ 1  0]\n",
      " [ 0 -1]]\n",
      "Reversed z = z (Same as original) \n",
      " [[ 1  0]\n",
      " [ 0 -1]]\n",
      "\n",
      " h \n",
      " [[ 0.707  0.707]\n",
      " [ 0.707 -0.707]]\n",
      "Reversed h = h (Same as original) \n",
      " [[ 0.707  0.707]\n",
      " [ 0.707 -0.707]]\n",
      "\n",
      " s \n",
      " [[1.+0.j 0.+0.j]\n",
      " [0.+0.j 0.+1.j]]\n",
      "Reversed s = s† (Complex numbers conjugated) \n",
      " [[1.-0.j 0.-0.j]\n",
      " [0.-0.j 0.-1.j]]\n",
      "\n",
      "\n"
     ]
    }
   ],
   "source": [
    "print(\"Matrix representations of our gates:\")\n",
    "print(\"-------------------------------------\")\n",
    "gates = {\n",
    "    \"id\": np.array([[1, 0], [0, 1]]),\n",
    "    \"x\": np.array([[0, 1], [1, 0]]),\n",
    "    \"y\": np.array([[0, -1.0j], [1.0j, 0]]),\n",
    "    \"z\": np.array([[1, 0], [0, -1]]),\n",
    "    \"h\": 1 / sqrt(2) * np.array([[1, 1], [1, -1]]),\n",
    "    \"s\": np.array([[1, 0], [0, 1j]]),\n",
    "}\n",
    "diff = \"\"\n",
    "for g in gates:\n",
    "    print(\"\\n\", g, \"\\n\", gates[g].round(3))\n",
    "    if gates[g].all == np.matrix.conjugate(gates[g]).all:\n",
    "        diff = g + \" (Same as original)\"\n",
    "    else:\n",
    "        diff = g + \"\\u2020 (Complex numbers conjugated)\"\n",
    "\n",
    "    print(\"Reversed\", g, \"=\", diff, \"\\n\", np.matrix.conjugate(gates[g]).round(3))\n",
    "\n",
    "print(\"\\n\")\n"
   ]
  },
  {
   "cell_type": "code",
   "execution_count": 5,
   "id": "4bd8a3b6-075d-4949-8a95-2b4bb1f47eee",
   "metadata": {},
   "outputs": [
    {
     "name": "stdin",
     "output_type": "stream",
     "text": [
      "Press enter... \n"
     ]
    },
    {
     "name": "stdout",
     "output_type": "stream",
     "text": [
      "Gate: id\n",
      "-------\n",
      "\n",
      "Original qubit:  |0〉 \n",
      " [1 0]\n",
      "Qubit after id gate: \n",
      " [1 0]\n",
      "Qubit after reversed id gate. \n",
      " [1 0]\n",
      "\n",
      "Original qubit:  |1〉 \n",
      " [0 1]\n",
      "Qubit after id gate: \n",
      " [0 1]\n",
      "Qubit after reversed id gate. \n",
      " [0 1]\n",
      "\n",
      "Original qubit:  (|0〉+|1〉)/√2 \n",
      " [0.707 0.707]\n",
      "Qubit after id gate: \n",
      " [0.707 0.707]\n",
      "Qubit after reversed id gate. \n",
      " [0.707 0.707]\n",
      "\n",
      "\n"
     ]
    },
    {
     "name": "stdin",
     "output_type": "stream",
     "text": [
      "Press enter... \n"
     ]
    },
    {
     "name": "stdout",
     "output_type": "stream",
     "text": [
      "Gate: x\n",
      "-------\n",
      "\n",
      "Original qubit:  |0〉 \n",
      " [1 0]\n",
      "Qubit after x gate: \n",
      " [0 1]\n",
      "Qubit after reversed x gate. \n",
      " [1 0]\n",
      "\n",
      "Original qubit:  |1〉 \n",
      " [0 1]\n",
      "Qubit after x gate: \n",
      " [1 0]\n",
      "Qubit after reversed x gate. \n",
      " [0 1]\n",
      "\n",
      "Original qubit:  (|0〉+|1〉)/√2 \n",
      " [0.707 0.707]\n",
      "Qubit after x gate: \n",
      " [0.707 0.707]\n",
      "Qubit after reversed x gate. \n",
      " [0.707 0.707]\n",
      "\n",
      "\n"
     ]
    },
    {
     "name": "stdin",
     "output_type": "stream",
     "text": [
      "Press enter... \n"
     ]
    },
    {
     "name": "stdout",
     "output_type": "stream",
     "text": [
      "Gate: y\n",
      "-------\n",
      "\n",
      "Original qubit:  |0〉 \n",
      " [1 0]\n",
      "Qubit after y gate: \n",
      " [0.+0.j 0.+1.j]\n",
      "Qubit after reversed y gate. \n",
      " [1.+0.j 0.+0.j]\n",
      "\n",
      "Original qubit:  |1〉 \n",
      " [0 1]\n",
      "Qubit after y gate: \n",
      " [0.-1.j 0.+0.j]\n",
      "Qubit after reversed y gate. \n",
      " [0.+0.j 1.+0.j]\n",
      "\n",
      "Original qubit:  (|0〉+|1〉)/√2 \n",
      " [0.707 0.707]\n",
      "Qubit after y gate: \n",
      " [0.-0.707j 0.+0.707j]\n",
      "Qubit after reversed y gate. \n",
      " [0.707+0.j 0.707+0.j]\n",
      "\n",
      "\n"
     ]
    },
    {
     "name": "stdin",
     "output_type": "stream",
     "text": [
      "Press enter... \n"
     ]
    },
    {
     "name": "stdout",
     "output_type": "stream",
     "text": [
      "Gate: z\n",
      "-------\n",
      "\n",
      "Original qubit:  |0〉 \n",
      " [1 0]\n",
      "Qubit after z gate: \n",
      " [1 0]\n",
      "Qubit after reversed z gate. \n",
      " [1 0]\n",
      "\n",
      "Original qubit:  |1〉 \n",
      " [0 1]\n",
      "Qubit after z gate: \n",
      " [ 0 -1]\n",
      "Qubit after reversed z gate. \n",
      " [0 1]\n",
      "\n",
      "Original qubit:  (|0〉+|1〉)/√2 \n",
      " [0.707 0.707]\n",
      "Qubit after z gate: \n",
      " [ 0.707 -0.707]\n",
      "Qubit after reversed z gate. \n",
      " [0.707 0.707]\n",
      "\n",
      "\n"
     ]
    },
    {
     "name": "stdin",
     "output_type": "stream",
     "text": [
      "Press enter... \n"
     ]
    },
    {
     "name": "stdout",
     "output_type": "stream",
     "text": [
      "Gate: h\n",
      "-------\n",
      "\n",
      "Original qubit:  |0〉 \n",
      " [1 0]\n",
      "Qubit after h gate: \n",
      " [0.707 0.707]\n",
      "Qubit after reversed h gate. \n",
      " [1. 0.]\n",
      "\n",
      "Original qubit:  |1〉 \n",
      " [0 1]\n",
      "Qubit after h gate: \n",
      " [ 0.707 -0.707]\n",
      "Qubit after reversed h gate. \n",
      " [0. 1.]\n",
      "\n",
      "Original qubit:  (|0〉+|1〉)/√2 \n",
      " [0.707 0.707]\n",
      "Qubit after h gate: \n",
      " [1. 0.]\n",
      "Qubit after reversed h gate. \n",
      " [0.707 0.707]\n",
      "\n",
      "\n"
     ]
    },
    {
     "name": "stdin",
     "output_type": "stream",
     "text": [
      "Press enter... \n"
     ]
    },
    {
     "name": "stdout",
     "output_type": "stream",
     "text": [
      "Gate: s\n",
      "-------\n",
      "\n",
      "Original qubit:  |0〉 \n",
      " [1 0]\n",
      "Qubit after s gate: \n",
      " [1.+0.j 0.+0.j]\n",
      "Qubit after reversed s gate. \n",
      " [1.+0.j 0.+0.j]\n",
      "\n",
      "Original qubit:  |1〉 \n",
      " [0 1]\n",
      "Qubit after s gate: \n",
      " [0.+0.j 0.+1.j]\n",
      "Qubit after reversed s gate. \n",
      " [0.+0.j 1.+0.j]\n",
      "\n",
      "Original qubit:  (|0〉+|1〉)/√2 \n",
      " [0.707 0.707]\n",
      "Qubit after s gate: \n",
      " [0.707+0.j    0.   +0.707j]\n",
      "Qubit after reversed s gate. \n",
      " [0.707+0.j 0.707+0.j]\n",
      "\n",
      "\n"
     ]
    }
   ],
   "source": [
    "# Demonstrate that the basic quantum gates are reversible\n",
    "# by applying the gate then its’ complex conjugate,\n",
    "# and then comparing the outcome with the input.\n",
    "\n",
    "for g in gates:\n",
    "    input(\"Press enter...\")\n",
    "    print(\"Gate:\", g)\n",
    "    print(\"-------\")\n",
    "    for q in qubits:\n",
    "        print(\"\\nOriginal qubit: \", q, \"\\n\", qubits[q].round(3))\n",
    "        print(\"Qubit after\", g, \"gate: \\n\", np.dot(gates[g], qubits[q]).round(3))\n",
    "        print(\n",
    "            \"Qubit after reversed\",\n",
    "            g,\n",
    "            \"gate.\",\n",
    "            \"\\n\",\n",
    "            np.dot(np.dot(gates[g], qubits[q]), np.matrix.conjugate(gates[g])).round(3),\n",
    "        )\n",
    "    print(\"\\n\")\n"
   ]
  },
  {
   "cell_type": "code",
   "execution_count": null,
   "id": "8ba9ee52-d75e-4188-835e-5a1a0f2ab177",
   "metadata": {},
   "outputs": [],
   "source": []
  }
 ],
 "metadata": {
  "kernelspec": {
   "display_name": "Python 3 (ipykernel)",
   "language": "python",
   "name": "python3"
  },
  "language_info": {
   "codemirror_mode": {
    "name": "ipython",
    "version": 3
   },
   "file_extension": ".py",
   "mimetype": "text/x-python",
   "name": "python",
   "nbconvert_exporter": "python",
   "pygments_lexer": "ipython3",
   "version": "3.11.4"
  }
 },
 "nbformat": 4,
 "nbformat_minor": 5
}
