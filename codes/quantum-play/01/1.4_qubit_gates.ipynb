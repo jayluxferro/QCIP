{
 "cells": [
  {
   "cell_type": "code",
   "execution_count": 1,
   "id": "0117e5fa-f171-4b67-abf8-310c720ce9c5",
   "metadata": {},
   "outputs": [],
   "source": [
    "# Let's start by importing all we need.\n",
    "import numpy as np\n",
    "from math import sqrt"
   ]
  },
  {
   "cell_type": "code",
   "execution_count": 2,
   "id": "21451bc0-1471-4d0f-a110-6824e35f7398",
   "metadata": {},
   "outputs": [
    {
     "name": "stdout",
     "output_type": "stream",
     "text": [
      "Vector representations of our qubits:\n",
      "-------------------------------------\n",
      "|0⟩ \n",
      " [1 0]\n",
      "|1⟩ \n",
      " [0 1]\n",
      "(|0⟩+|1⟩)/√2 \n",
      " [0.707 0.707]\n"
     ]
    }
   ],
   "source": [
    "# Set up the basic matrices\n",
    "print(\"Vector representations of our qubits:\")\n",
    "print(\"-------------------------------------\")\n",
    "\n",
    "qubits = {\n",
    "    \"|0\\u27e9\": np.array([1, 0]),\n",
    "    \"|1\\u27e9\": np.array([0, 1]),\n",
    "    \"(|0\\u27e9+|1\\u27e9)/\\u221a2\": 1 / sqrt(2) * np.array([1, 1]),\n",
    "}\n",
    "\n",
    "for q in qubits:\n",
    "    print(q, \"\\n\", qubits[q].round(3))"
   ]
  },
  {
   "cell_type": "code",
   "execution_count": 3,
   "id": "077ef425-cbb6-4193-8943-171731afd8f2",
   "metadata": {},
   "outputs": [
    {
     "name": "stdout",
     "output_type": "stream",
     "text": [
      "Matrix representations of our quantum gates:\n",
      "--------------------------------------------\n",
      "id \n",
      " [[1 0]\n",
      " [0 1]]\n",
      "x \n",
      " [[0 1]\n",
      " [1 0]]\n",
      "h \n",
      " [[ 0.707  0.707]\n",
      " [ 0.707 -0.707]]\n"
     ]
    }
   ],
   "source": [
    "print(\"Matrix representations of our quantum gates:\")\n",
    "print(\"--------------------------------------------\")\n",
    "gates = {\n",
    "    \"id\": np.array([[1, 0], [0, 1]]),\n",
    "    \"x\": np.array([[0, 1], [1, 0]]),\n",
    "    \"h\": 1 / sqrt(2) * np.array([[1, 1], [1, -1]]),\n",
    "}\n",
    "\n",
    "for g in gates:\n",
    "    print(g, \"\\n\", gates[g].round(3))\n"
   ]
  },
  {
   "cell_type": "code",
   "execution_count": 4,
   "id": "34e25a68-b1e6-4509-a80a-739586c6348a",
   "metadata": {},
   "outputs": [
    {
     "name": "stdout",
     "output_type": "stream",
     "text": [
      "Gate manipulations of our qubits:\n",
      "---------------------------------\n",
      "Gate: id\n",
      "|0⟩ \n",
      " [1 0] -> [1 0]\n",
      "|1⟩ \n",
      " [0 1] -> [0 1]\n",
      "(|0⟩+|1⟩)/√2 \n",
      " [0.707 0.707] -> [0.707 0.707]\n",
      "\n",
      "\n",
      "Gate: x\n",
      "|0⟩ \n",
      " [1 0] -> [0 1]\n",
      "|1⟩ \n",
      " [0 1] -> [1 0]\n",
      "(|0⟩+|1⟩)/√2 \n",
      " [0.707 0.707] -> [0.707 0.707]\n",
      "\n",
      "\n",
      "Gate: h\n",
      "|0⟩ \n",
      " [1 0] -> [0.707 0.707]\n",
      "|1⟩ \n",
      " [0 1] -> [ 0.707 -0.707]\n",
      "(|0⟩+|1⟩)/√2 \n",
      " [0.707 0.707] -> [1. 0.]\n",
      "\n",
      "\n"
     ]
    }
   ],
   "source": [
    "print(\"Gate manipulations of our qubits:\")\n",
    "print(\"---------------------------------\")\n",
    "\n",
    "for g in gates:\n",
    "    print(\"Gate:\", g)\n",
    "    for q in qubits:\n",
    "        print(q, \"\\n\", qubits[q].round(3), \"->\", np.dot(gates[g], qubits[q]).round(3))\n",
    "    print(\"\\n\")\n"
   ]
  },
  {
   "cell_type": "code",
   "execution_count": 5,
   "id": "ad82f870-d3d7-42d4-923c-b072ba38111d",
   "metadata": {},
   "outputs": [
    {
     "name": "stdout",
     "output_type": "stream",
     "text": [
      "Vector representations of our two qubits:\n",
      "-----------------------------------------\n",
      "|00⟩ \n",
      " [1 0 0 0]\n",
      "|01⟩ \n",
      " [0 1 0 0]\n",
      "|10⟩ \n",
      " [0 0 1 0]\n",
      "|11⟩ \n",
      " [0 0 0 1]\n",
      "|PH⟩ \n",
      " [ 0.5 -0.5  0.5 -0.5]\n"
     ]
    }
   ],
   "source": [
    "print(\"Vector representations of our two qubits:\")\n",
    "print(\"-----------------------------------------\")\n",
    "\n",
    "twoqubits = {\n",
    "    \"|00\\u27e9\": np.array([1, 0, 0, 0]),\n",
    "    \"|01\\u27e9\": np.array([0, 1, 0, 0]),\n",
    "    \"|10\\u27e9\": np.array([0, 0, 1, 0]),\n",
    "    \"|11\\u27e9\": np.array([0, 0, 0, 1]),\n",
    "    \"|PH\\u27e9\": np.array([0.5, -0.5, 0.5, -0.5]),\n",
    "}\n",
    "\n",
    "for b in twoqubits:\n",
    "    print(b, \"\\n\", twoqubits[b])\n"
   ]
  },
  {
   "cell_type": "code",
   "execution_count": 6,
   "id": "3fff4bca-69a3-4558-b6d6-c4f91bd7a374",
   "metadata": {},
   "outputs": [
    {
     "name": "stdout",
     "output_type": "stream",
     "text": [
      "Matrix representations of our quantum gates:\n",
      "--------------------------------------------\n",
      "cx \n",
      " [[1 0 0 0]\n",
      " [0 1 0 0]\n",
      " [0 0 0 1]\n",
      " [0 0 1 0]]\n",
      "swap \n",
      " [[1 0 0 0]\n",
      " [0 0 1 0]\n",
      " [0 1 0 0]\n",
      " [0 0 0 1]]\n"
     ]
    }
   ],
   "source": [
    "print(\"Matrix representations of our quantum gates:\")\n",
    "print(\"--------------------------------------------\")\n",
    "twogates = {\n",
    "    \"cx\": np.array([[1, 0, 0, 0], [0, 1, 0, 0], [0, 0, 0, 1], [0, 0, 1, 0]]),\n",
    "    \"swap\": np.array([[1, 0, 0, 0], [0, 0, 1, 0], [0, 1, 0, 0], [0, 0, 0, 1]]),\n",
    "}\n",
    "\n",
    "for g in twogates:\n",
    "    print(g, \"\\n\", twogates[g].round())\n",
    "\n"
   ]
  },
  {
   "cell_type": "code",
   "execution_count": 7,
   "id": "dd68701a-efb6-4263-9de3-27f02986496d",
   "metadata": {},
   "outputs": [
    {
     "name": "stdout",
     "output_type": "stream",
     "text": [
      "Gate manipulations of our qubits:\n",
      "---------------------------------\n",
      "Gate: cx\n",
      "|00⟩ \n",
      " [1 0 0 0] -> [1 0 0 0]\n",
      "|01⟩ \n",
      " [0 1 0 0] -> [0 1 0 0]\n",
      "|10⟩ \n",
      " [0 0 1 0] -> [0 0 0 1]\n",
      "|11⟩ \n",
      " [0 0 0 1] -> [0 0 1 0]\n",
      "|PH⟩ \n",
      " [ 0.5 -0.5  0.5 -0.5] -> [ 0.5 -0.5 -0.5  0.5]\n",
      "\n",
      "\n",
      "Gate: swap\n",
      "|00⟩ \n",
      " [1 0 0 0] -> [1 0 0 0]\n",
      "|01⟩ \n",
      " [0 1 0 0] -> [0 0 1 0]\n",
      "|10⟩ \n",
      " [0 0 1 0] -> [0 1 0 0]\n",
      "|11⟩ \n",
      " [0 0 0 1] -> [0 0 0 1]\n",
      "|PH⟩ \n",
      " [ 0.5 -0.5  0.5 -0.5] -> [ 0.5  0.5 -0.5 -0.5]\n",
      "\n",
      "\n"
     ]
    }
   ],
   "source": [
    "print(\"Gate manipulations of our qubits:\")\n",
    "print(\"---------------------------------\")\n",
    "\n",
    "for g in twogates:\n",
    "    print(\"Gate:\", g)\n",
    "    for b in twoqubits:\n",
    "        print(b, \"\\n\", twoqubits[b], \"->\", np.dot(twogates[g], twoqubits[b]))\n",
    "    print(\"\\n\")\n"
   ]
  },
  {
   "cell_type": "code",
   "execution_count": null,
   "id": "2f5ce7ed-a659-4550-a337-3d73a4302f5f",
   "metadata": {},
   "outputs": [],
   "source": []
  }
 ],
 "metadata": {
  "kernelspec": {
   "display_name": "Python 3 (ipykernel)",
   "language": "python",
   "name": "python3"
  },
  "language_info": {
   "codemirror_mode": {
    "name": "ipython",
    "version": 3
   },
   "file_extension": ".py",
   "mimetype": "text/x-python",
   "name": "python",
   "nbconvert_exporter": "python",
   "pygments_lexer": "ipython3",
   "version": "3.11.4"
  }
 },
 "nbformat": 4,
 "nbformat_minor": 5
}
