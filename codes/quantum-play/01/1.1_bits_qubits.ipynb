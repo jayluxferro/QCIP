{
 "cells": [
  {
   "cell_type": "code",
   "execution_count": 1,
   "id": "0117e5fa-f171-4b67-abf8-310c720ce9c5",
   "metadata": {},
   "outputs": [],
   "source": [
    "from math import sqrt, pow\n",
    "import numpy as np"
   ]
  },
  {
   "cell_type": "code",
   "execution_count": 2,
   "id": "9b642bb0-f36f-412d-88c0-3184d543d261",
   "metadata": {},
   "outputs": [],
   "source": [
    "def test_for_normalization(a, b):\n",
    "  assert round(pow(a, 2) + pow(b, 2), 1) == 1.0"
   ]
  },
  {
   "cell_type": "code",
   "execution_count": 13,
   "id": "3aec3841-0d37-4a48-a168-027afa7df175",
   "metadata": {},
   "outputs": [],
   "source": [
    "alpha = sqrt(1/2)\n",
    "beta = sqrt(1/2)"
   ]
  },
  {
   "cell_type": "code",
   "execution_count": 14,
   "id": "2ffc97e7-7174-4c58-99e0-3bd31c89aef8",
   "metadata": {},
   "outputs": [],
   "source": [
    "# test for normalization\n",
    "test_for_normalization(alpha, beta)"
   ]
  },
  {
   "cell_type": "code",
   "execution_count": 15,
   "id": "16e52c39-704e-4928-9e5d-18d80dbc0337",
   "metadata": {},
   "outputs": [],
   "source": [
    "# setup bits and qubits\n",
    "bits = { '0': np.array([1, 0]), '1': np.array([0, 1]) , '|0>': np.array([1, 0]), '|1>': np.array([0, 1]), 'a|0> + b|1>': np.array([alpha, beta]) }"
   ]
  },
  {
   "cell_type": "code",
   "execution_count": 16,
   "id": "c6f2cc96-9f1d-400e-b9bf-53ca80fd3f11",
   "metadata": {},
   "outputs": [
    {
     "name": "stdout",
     "output_type": "stream",
     "text": [
      "0 :  [1 0]\n",
      "1 :  [0 1]\n",
      "|0> :  [1 0]\n",
      "|1> :  [0 1]\n",
      "a|0> + b|1> :  [0.70710678 0.70710678]\n"
     ]
    }
   ],
   "source": [
    "# print the vectors\n",
    "for b in bits:\n",
    "  print(b, ': ', bits[b]) # prints the key : value of the key"
   ]
  },
  {
   "cell_type": "code",
   "execution_count": 17,
   "id": "08472492-baa8-4ec5-887c-3a206fb21158",
   "metadata": {},
   "outputs": [
    {
     "name": "stdout",
     "output_type": "stream",
     "text": [
      "0 :  1.0\n",
      "1 :  0.0\n",
      "|0> :  1.0\n",
      "|1> :  0.0\n",
      "a|0> + b|1> :  0.5000000000000001\n"
     ]
    }
   ],
   "source": [
    "# measurement of bits and qubits\n",
    "for b in bits:\n",
    "  key = b\n",
    "  value = bits[b]\n",
    "  zero_measurement_value = value[0]\n",
    "  prob = pow(zero_measurement_value, 2)\n",
    "  print(b, ': ', prob)"
   ]
  },
  {
   "cell_type": "code",
   "execution_count": null,
   "id": "799a0a2f-7ca8-413b-b519-bad06021977c",
   "metadata": {},
   "outputs": [],
   "source": []
  }
 ],
 "metadata": {
  "kernelspec": {
   "display_name": "Python 3 (ipykernel)",
   "language": "python",
   "name": "python3"
  },
  "language_info": {
   "codemirror_mode": {
    "name": "ipython",
    "version": 3
   },
   "file_extension": ".py",
   "mimetype": "text/x-python",
   "name": "python",
   "nbconvert_exporter": "python",
   "pygments_lexer": "ipython3",
   "version": "3.11.4"
  }
 },
 "nbformat": 4,
 "nbformat_minor": 5
}
