{
 "cells": [
  {
   "cell_type": "code",
   "execution_count": null,
   "id": "ca711893-4b04-4afe-b958-c219bc9f837a",
   "metadata": {},
   "outputs": [],
   "source": [
    "from qiskit import QuantumCircuit\n",
    "from qiskit_ibm_runtime import QiskitRuntimeService, SamplerV2 as Sampler\n",
    " \n",
    "# Create empty circuit\n",
    "example_circuit = QuantumCircuit(2)\n",
    "example_circuit.measure_all()\n",
    " \n",
    "# You'll need to specify the credentials when initializing QiskitRuntimeService, if they were not previously saved.\n",
    "service = QiskitRuntimeService(\n",
    "    channel=\"ibm_quantum\",\n",
    "    instance='ibm-q/open/main',\n",
    "    token=\"3520516a1ecc751d7adbb8055971a9bb292c47340202d21d23b1981edb9a46665cf8f5a680fb9c6379dfab6c4a1175fd9966955989c23099096dbc239084d70d\"\n",
    ")\n",
    " \n",
    "backend = service.least_busy(operational=True, simulator=False)\n",
    " \n",
    "sampler = Sampler(backend)\n",
    "job = sampler.run([example_circuit])\n",
    "print(f\"job id: {job.job_id()}\")\n",
    "result = job.result()\n",
    "print(result)"
   ]
  },
  {
   "cell_type": "code",
   "execution_count": null,
   "id": "4b8c8375-fd0f-4155-a378-b9a01b779e02",
   "metadata": {},
   "outputs": [],
   "source": []
  }
 ],
 "metadata": {
  "kernelspec": {
   "display_name": "Python 3 (ipykernel)",
   "language": "python",
   "name": "python3"
  },
  "language_info": {
   "codemirror_mode": {
    "name": "ipython",
    "version": 3
   },
   "file_extension": ".py",
   "mimetype": "text/x-python",
   "name": "python",
   "nbconvert_exporter": "python",
   "pygments_lexer": "ipython3",
   "version": "3.11.4"
  }
 },
 "nbformat": 4,
 "nbformat_minor": 5
}
